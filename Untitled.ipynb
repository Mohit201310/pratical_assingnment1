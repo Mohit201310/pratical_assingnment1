{
 "cells": [
  {
   "cell_type": "code",
   "execution_count": null,
   "id": "4f7359b4-5f17-4d27-a799-aea2cd320c2b",
   "metadata": {},
   "outputs": [],
   "source": [
    "#  1.Write a Python program to print \"Hello Python\"?\n",
    "print(\"Hello Python\")"
   ]
  },
  {
   "cell_type": "code",
   "execution_count": null,
   "id": "95e6e829-7aed-4c1f-adf5-a51e0d644a89",
   "metadata": {},
   "outputs": [],
   "source": [
    "# 2.Write a Python program to do arithmetical operations addition and division ?\n",
    "num1 = float(input(\" Please Enter the First Value Number 1: \"))\n",
    "num2 = float(input(\" Please Enter the Second Value Number 2: \"))\n",
    "add = num1 + num2\n",
    "div = num1 / num2\n",
    "print(f\"The sum of two number is : {add}\")\n",
    "print(f\"The division of two number is : {div}\")\n"
   ]
  },
  {
   "cell_type": "code",
   "execution_count": null,
   "id": "a8dca3f0-79ec-435c-96ef-dda70bdc2203",
   "metadata": {},
   "outputs": [],
   "source": [
    "# 3. Write a Python program to find the area of a triangle?\n",
    "b = float(input('Enter the base of triangle : '))\n",
    "h = float(input('Enter the height of triangle: '))\n",
    "s = b * h * 0.5\n",
    "print(f\"area of triangle :{s}\") \n"
   ]
  },
  {
   "cell_type": "code",
   "execution_count": null,
   "id": "6a508388-e5b5-4caa-96f7-9e94b7ae7ded",
   "metadata": {},
   "outputs": [],
   "source": [
    "# 4.Write a Python program to swap two variables?\n",
    "x = int(input(\"enter the num1: \"))\n",
    "y = int(input(\"enter the num2: \"))\n",
    "# Swapping of two variables\n",
    "# Using third variable\n",
    "temp = x\n",
    "x = y\n",
    "y = temp\n",
    "print(\"Value of num1:\", x)\n",
    "print(\"Value of num2:\", y)\n"
   ]
  },
  {
   "cell_type": "code",
   "execution_count": null,
   "id": "7b48326f-d282-4860-a2b7-bfea5547e00e",
   "metadata": {},
   "outputs": [],
   "source": [
    "# 5.Write a Python program to generate a random number?\n",
    "\n",
    "import random\n",
    "list1 = [1, 2, 3, 4, 5, 6]\n",
    "print(random.choice(list1))   \n"
   ]
  },
  {
   "cell_type": "code",
   "execution_count": null,
   "id": "4e2881bd-1a9b-456f-8275-31d0cea68016",
   "metadata": {},
   "outputs": [],
   "source": []
  }
 ],
 "metadata": {
  "kernelspec": {
   "display_name": "Python 3 (ipykernel)",
   "language": "python",
   "name": "python3"
  },
  "language_info": {
   "codemirror_mode": {
    "name": "ipython",
    "version": 3
   },
   "file_extension": ".py",
   "mimetype": "text/x-python",
   "name": "python",
   "nbconvert_exporter": "python",
   "pygments_lexer": "ipython3",
   "version": "3.10.6"
  }
 },
 "nbformat": 4,
 "nbformat_minor": 5
}
